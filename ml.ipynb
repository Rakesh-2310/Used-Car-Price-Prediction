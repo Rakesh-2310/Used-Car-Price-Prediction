{
 "cells": [
  {
   "cell_type": "code",
   "execution_count": 2,
   "id": "ddb28524-c37f-4d04-ad10-2a95adf281d9",
   "metadata": {},
   "outputs": [],
   "source": [
    "import pandas as pd\n",
    "from sklearn.model_selection import train_test_split\n",
    "from sklearn.linear_model import LinearRegression\n",
    "from sklearn.tree import DecisionTreeRegressor\n",
    "from sklearn.ensemble import RandomForestRegressor\n",
    "from xgboost import XGBRegressor\n",
    "from sklearn.metrics import mean_squared_error, mean_absolute_error, r2_score, mean_absolute_percentage_error"
   ]
  },
  {
   "cell_type": "code",
   "execution_count": 3,
   "id": "a14ba5be-0b35-4575-8f7b-cc0958dd09e6",
   "metadata": {},
   "outputs": [
    {
     "name": "stdout",
     "output_type": "stream",
     "text": [
      "Training feature set shape: (4708, 98)\n",
      "Testing feature set shape: (1177, 98)\n"
     ]
    }
   ],
   "source": [
    "df_cars_final = pd.read_excel('all_processed_data.xlsx')\n",
    "\n",
    "categorical_features = df_cars_final.select_dtypes(include=['object']).columns\n",
    "numerical_features = df_cars_final.select_dtypes(include=['number']).columns\n",
    "\n",
    "# Separate the target variable\n",
    "X = df_cars_final.drop('price', axis=1)\n",
    "y = df_cars_final['price']\n",
    "\n",
    "# Apply one-hot encoding to categorical features\n",
    "X_encoded = pd.get_dummies(X, columns=categorical_features, drop_first=True)\n",
    "\n",
    "# The numerical columns are automatically included as they are\n",
    "\n",
    "# Split the data into training and testing sets\n",
    "X_train, X_test, y_train, y_test = train_test_split(X_encoded, y, test_size=0.2, random_state=42)\n",
    "\n",
    "print(f\"Training feature set shape: {X_train.shape}\")\n",
    "print(f\"Testing feature set shape: {X_test.shape}\")"
   ]
  },
  {
   "cell_type": "code",
   "execution_count": 5,
   "id": "d99280c6-b63b-4fd7-a7d8-89d69cb53ec7",
   "metadata": {},
   "outputs": [
    {
     "name": "stdout",
     "output_type": "stream",
     "text": [
      "                      MSE_train     MAE_train  R2_train  MAPE_train  \\\n",
      "Linear Regression  2.227794e+10  86374.566035  0.873598   17.342779   \n",
      "Decision Tree      2.424671e+07    476.847918  0.999862    0.087812   \n",
      "Random Forest      1.670779e+09  24894.759658  0.990520    4.479399   \n",
      "XGBoost            1.485230e+09  28003.323200  0.991573    5.478265   \n",
      "\n",
      "                       MSE_test      MAE_test   R2_test  MAPE_test  \n",
      "Linear Regression  2.349042e+10  89982.929662  0.882717  17.636654  \n",
      "Decision Tree      2.331511e+10  89672.062872  0.883593  15.485004  \n",
      "Random Forest      1.376649e+10  64724.712443  0.931267  11.469638  \n",
      "XGBoost            1.040855e+10  57988.006419  0.948032  10.182868  \n"
     ]
    }
   ],
   "source": [
    "# Define the models\n",
    "models = {\n",
    "    'Linear Regression': LinearRegression(),\n",
    "    'Decision Tree': DecisionTreeRegressor(),\n",
    "    'Random Forest': RandomForestRegressor(),\n",
    "    'XGBoost': XGBRegressor()\n",
    "}\n",
    "\n",
    "# Store the results\n",
    "results = {}\n",
    "\n",
    "# Evaluate each model\n",
    "for model_name, model in models.items():\n",
    "    # Train the model\n",
    "    model.fit(X_train, y_train)\n",
    "    \n",
    "    # Make predictions\n",
    "    y_train_pred = model.predict(X_train)\n",
    "    y_test_pred = model.predict(X_test)\n",
    "    \n",
    "    # Calculate metrics\n",
    "    mse_train = mean_squared_error(y_train, y_train_pred)\n",
    "    mae_train = mean_absolute_error(y_train, y_train_pred)\n",
    "    r2_train = r2_score(y_train, y_train_pred)\n",
    "    mape_train = mean_absolute_percentage_error(y_train, y_train_pred) * 100\n",
    "    \n",
    "    mse_test = mean_squared_error(y_test, y_test_pred)\n",
    "    mae_test = mean_absolute_error(y_test, y_test_pred)\n",
    "    r2_test = r2_score(y_test, y_test_pred)\n",
    "    mape_test = mean_absolute_percentage_error(y_test, y_test_pred) * 100\n",
    "    \n",
    "    # Store the results\n",
    "    results[model_name] = {\n",
    "        'MSE_train': mse_train,\n",
    "        'MAE_train': mae_train,\n",
    "        'R2_train': r2_train,\n",
    "        'MAPE_train': mape_train,\n",
    "        'MSE_test': mse_test,\n",
    "        'MAE_test':mae_test,\n",
    "        'R2_test': r2_test,\n",
    "        'MAPE_test': mape_test\n",
    "    }\n",
    "\n",
    "# Convert results to DataFrame\n",
    "results_df = pd.DataFrame(results).T\n",
    "print(results_df)"
   ]
  },
  {
   "cell_type": "code",
   "execution_count": 6,
   "id": "52b8475a-48dc-4a38-9c92-0f6c88badbd2",
   "metadata": {},
   "outputs": [
    {
     "name": "stdout",
     "output_type": "stream",
     "text": [
      "Fitting 5 folds for each of 50 candidates, totalling 250 fits\n",
      "Best Random Forest Parameters: {'n_estimators': 300, 'min_samples_split': 2, 'min_samples_leaf': 1, 'max_depth': 30}\n"
     ]
    }
   ],
   "source": [
    "from sklearn.model_selection import RandomizedSearchCV\n",
    "from scipy.stats import uniform\n",
    "\n",
    "param_distributions_rf = {\n",
    "    'n_estimators': [100, 200, 300],\n",
    "    'max_depth': [10, 20, 30],\n",
    "    'min_samples_split': [2, 5, 10],\n",
    "    'min_samples_leaf': [1, 2, 4]\n",
    "}\n",
    "\n",
    "rf_model = RandomForestRegressor(random_state=42)\n",
    "rf_random_search = RandomizedSearchCV(\n",
    "    rf_model,\n",
    "    param_distributions=param_distributions_rf,\n",
    "    n_iter=50,\n",
    "    scoring='neg_mean_absolute_percentage_error',\n",
    "    cv=5,\n",
    "    n_jobs=-1,\n",
    "    verbose=1,\n",
    "    random_state=42\n",
    ")\n",
    "\n",
    "rf_random_search.fit(X_train, y_train)\n",
    "best_rf_params = rf_random_search.best_params_\n",
    "print(f\"Best Random Forest Parameters: {best_rf_params}\")"
   ]
  },
  {
   "cell_type": "code",
   "execution_count": 7,
   "id": "7d678957-8a98-47a2-ae23-be62c207e6a9",
   "metadata": {},
   "outputs": [
    {
     "name": "stdout",
     "output_type": "stream",
     "text": [
      "Fitting 5 folds for each of 50 candidates, totalling 250 fits\n",
      "Best XGBoost Parameters: {'alpha': 1, 'colsample_bytree': 0.8329611783087483, 'lambda': 1, 'learning_rate': 0.1, 'max_depth': 5, 'n_estimators': 300, 'subsample': 0.7361074625809747}\n"
     ]
    }
   ],
   "source": [
    "## For XGBoost\n",
    "\n",
    "from sklearn.model_selection import RandomizedSearchCV\n",
    "from scipy.stats import uniform\n",
    "\n",
    "param_distributions_xgb = {\n",
    "    'n_estimators': [100, 200, 300],\n",
    "    'max_depth': [3, 4, 5],\n",
    "    'learning_rate': [0.01, 0.1, 0.2],\n",
    "    'subsample': uniform(0.5, 0.5),\n",
    "    'colsample_bytree': uniform(0.5, 0.5),\n",
    "    'alpha': [0, 0.1, 0.5, 1],\n",
    "    'lambda': [0, 0.1, 0.5, 1]\n",
    "}\n",
    "\n",
    "xgb_model = XGBRegressor(objective='reg:squarederror', random_state=42)\n",
    "xgb_random_search = RandomizedSearchCV(\n",
    "    xgb_model,\n",
    "    param_distributions=param_distributions_xgb,\n",
    "    n_iter=50,\n",
    "    scoring='neg_mean_absolute_percentage_error',\n",
    "    cv=5,\n",
    "    n_jobs=-1,\n",
    "    verbose=1,\n",
    "    random_state=42\n",
    ")\n",
    "\n",
    "xgb_random_search.fit(X_train, y_train)\n",
    "best_xgb_params = xgb_random_search.best_params_\n",
    "print(f\"Best XGBoost Parameters: {best_xgb_params}\")\n"
   ]
  },
  {
   "cell_type": "code",
   "execution_count": 8,
   "id": "4ac888c7-b619-42a0-975a-3533ff4c34c2",
   "metadata": {},
   "outputs": [
    {
     "name": "stdout",
     "output_type": "stream",
     "text": [
      "Random Forest Train MSE: 1580786965.7633302\n",
      "Random Forest Train R^2: 0.9910308323371625\n",
      "Random Forest Train MAPE: 4.402445723898892%\n",
      "Random Forest Test MSE: 13166113741.943487\n",
      "Random Forest Test R^2: 0.9342643684964812\n",
      "Random Forest Test MAPE: 11.39017146877129%\n"
     ]
    }
   ],
   "source": [
    "# Revaluate with the best parameters \n",
    "# Best Random Forest Parameters: \n",
    "#{'n_estimators': 300, 'min_samples_split': 2, 'min_samples_leaf': 1, 'max_depth': 30}\n",
    "\n",
    "# Initialize and train the Random Forest model with best parameters\n",
    "rf_model = RandomForestRegressor(n_estimators=300, \n",
    "                                 max_depth=30, \n",
    "                                 min_samples_split=2, \n",
    "                                 min_samples_leaf=1,\n",
    "                                 random_state=42)\n",
    "rf_model.fit(X_train, y_train)\n",
    "\n",
    "# Make predictions\n",
    "y_train_pred_rf = rf_model.predict(X_train)\n",
    "\n",
    "# Calculate metrics for the training set\n",
    "mse_train_rf = mean_squared_error(y_train, y_train_pred_rf)\n",
    "r2_train_rf = r2_score(y_train, y_train_pred_rf)\n",
    "mape_train_rf = mean_absolute_percentage_error(y_train, y_train_pred_rf) * 100\n",
    "\n",
    "# Print metrics for the training set\n",
    "print(f\"Random Forest Train MSE: {mse_train_rf}\")\n",
    "print(f\"Random Forest Train R^2: {r2_train_rf}\")\n",
    "print(f\"Random Forest Train MAPE: {mape_train_rf}%\")\n",
    "\n",
    "# Make predictions on the test set\n",
    "y_test_pred_rf = rf_model.predict(X_test)\n",
    "\n",
    "# Calculate metrics for the test set\n",
    "mse_test_rf = mean_squared_error(y_test, y_test_pred_rf)\n",
    "r2_test_rf = r2_score(y_test, y_test_pred_rf)\n",
    "mape_test_rf = mean_absolute_percentage_error(y_test, y_test_pred_rf) * 100\n",
    "\n",
    "# Print metrics for the test set\n",
    "print(f\"Random Forest Test MSE: {mse_test_rf}\")\n",
    "print(f\"Random Forest Test R^2: {r2_test_rf}\")\n",
    "print(f\"Random Forest Test MAPE: {mape_test_rf}%\")"
   ]
  },
  {
   "cell_type": "code",
   "execution_count": 9,
   "id": "478e65d5-ca4a-49d9-ac71-652ff2c12bf4",
   "metadata": {},
   "outputs": [
    {
     "name": "stderr",
     "output_type": "stream",
     "text": [
      "C:\\Users\\rakes\\anaconda3\\Lib\\site-packages\\xgboost\\core.py:158: UserWarning: [12:33:30] WARNING: C:\\buildkite-agent\\builds\\buildkite-windows-cpu-autoscaling-group-i-0015a694724fa8361-1\\xgboost\\xgboost-ci-windows\\src\\learner.cc:740: \n",
      "Parameters: { \"lambda_\" } are not used.\n",
      "\n",
      "  warnings.warn(smsg, UserWarning)\n"
     ]
    },
    {
     "name": "stdout",
     "output_type": "stream",
     "text": [
      "XGBoost Train MSE: 2282918238.5075397\n",
      "XGBoost Train R^2: 0.9870470361375757\n",
      "XGBoost Train MAPE: 7.001669842309134%\n",
      "XGBoost Test MSE: 8403454729.738378\n",
      "XGBoost Test R^2: 0.9580433213400873\n",
      "XGBoost Test MAPE: 9.541971031743254%\n"
     ]
    }
   ],
   "source": [
    "#Best XGBoost Parameters: \n",
    "#{'alpha': 1, 'colsample_bytree': 0.8329611783087483, 'lambda': 1, \n",
    "#'learning_rate': 0.1, 'max_depth': 5, 'n_estimators': 300, 'subsample': 0.7361074625809747}\n",
    "\n",
    "# Initialize and train the XGBoost model with best parameters\n",
    "xgb_model = XGBRegressor(alpha=1, \n",
    "                         colsample_bytree=0.8329611783087483, \n",
    "                         lambda_=1, \n",
    "                         learning_rate=0.1, \n",
    "                         max_depth=5, \n",
    "                         n_estimators=300, \n",
    "                         subsample=0.7361074625809747, \n",
    "                         objective='reg:squarederror',\n",
    "                         random_state=42)\n",
    "\n",
    "xgb_model.fit(X_train, y_train)\n",
    "\n",
    "\n",
    "# Make predictions\n",
    "y_train_pred_xgb = xgb_model.predict(X_train)\n",
    "\n",
    "# Calculate metrics\n",
    "mse_train_xgb = mean_squared_error(y_train, y_train_pred_xgb)\n",
    "r2_train_xgb = r2_score(y_train, y_train_pred_xgb)\n",
    "mape_train_xgb = mean_absolute_percentage_error(y_train, y_train_pred_xgb) * 100\n",
    "\n",
    "print(f\"XGBoost Train MSE: {mse_train_xgb}\")\n",
    "print(f\"XGBoost Train R^2: {r2_train_xgb}\")\n",
    "print(f\"XGBoost Train MAPE: {mape_train_xgb}%\")\n",
    "\n",
    "# Make predictions\n",
    "y_test_pred_xgb = xgb_model.predict(X_test)\n",
    "\n",
    "# Calculate metrics\n",
    "mse_test_xgb = mean_squared_error(y_test, y_test_pred_xgb)\n",
    "r2_test_xgb = r2_score(y_test, y_test_pred_xgb)\n",
    "mape_test_xgb = mean_absolute_percentage_error(y_test, y_test_pred_xgb) * 100\n",
    "\n",
    "print(f\"XGBoost Test MSE: {mse_test_xgb}\")\n",
    "print(f\"XGBoost Test R^2: {r2_test_xgb}\")\n",
    "print(f\"XGBoost Test MAPE: {mape_test_xgb}%\")\n"
   ]
  },
  {
   "cell_type": "code",
   "execution_count": 10,
   "id": "e3dc5229-c82f-4b76-9b6d-cbac086b0a05",
   "metadata": {},
   "outputs": [
    {
     "name": "stdout",
     "output_type": "stream",
     "text": [
      "                     MSE_train     MAE_train  R2_train  MAPE_train  \\\n",
      "Ridge Regression  2.250062e+10  87372.392955  0.872335   17.549932   \n",
      "Lasso Regression  2.227805e+10  86377.428694  0.873597   17.342430   \n",
      "\n",
      "                      MSE_test      MAE_test   R2_test  MAPE_test  \n",
      "Ridge Regression  2.407698e+10  90804.128599  0.879789  17.710319  \n",
      "Lasso Regression  2.349220e+10  89984.198237  0.882708  17.634649  \n"
     ]
    },
    {
     "name": "stderr",
     "output_type": "stream",
     "text": [
      "C:\\Users\\rakes\\anaconda3\\Lib\\site-packages\\sklearn\\linear_model\\_coordinate_descent.py:631: ConvergenceWarning: Objective did not converge. You might want to increase the number of iterations, check the scale of the features or consider increasing regularisation. Duality gap: 3.474e+13, tolerance: 8.298e+10\n",
      "  model = cd_fast.enet_coordinate_descent(\n"
     ]
    }
   ],
   "source": [
    "from sklearn.linear_model import LinearRegression, Ridge, Lasso\n",
    "\n",
    "models = {\n",
    "    'Ridge Regression': Ridge(),\n",
    "    'Lasso Regression': Lasso(),\n",
    "}\n",
    "# Store the results\n",
    "results = {}\n",
    "\n",
    "# Evaluate each model\n",
    "for model_name, model in models.items():\n",
    "    # Train the model\n",
    "    model.fit(X_train, y_train)\n",
    "    \n",
    "    # Make predictions\n",
    "    y_train_pred = model.predict(X_train)\n",
    "    y_test_pred = model.predict(X_test)\n",
    "    \n",
    "    # Calculate metrics\n",
    "    mse_train = mean_squared_error(y_train, y_train_pred)\n",
    "    mae_train = mean_absolute_error(y_train, y_train_pred)\n",
    "    r2_train = r2_score(y_train, y_train_pred)\n",
    "    mape_train = mean_absolute_percentage_error(y_train, y_train_pred) * 100\n",
    "    \n",
    "    mse_test = mean_squared_error(y_test, y_test_pred)\n",
    "    mae_test = mean_absolute_error(y_test, y_test_pred)\n",
    "    r2_test = r2_score(y_test, y_test_pred)\n",
    "    mape_test = mean_absolute_percentage_error(y_test, y_test_pred) * 100\n",
    "    \n",
    "    # Store the results\n",
    "    results[model_name] = {\n",
    "        'MSE_train': mse_train,\n",
    "        'MAE_train': mae_train,\n",
    "        'R2_train': r2_train,\n",
    "        'MAPE_train': mape_train,\n",
    "        'MSE_test': mse_test,\n",
    "        'MAE_test':mae_test,\n",
    "        'R2_test': r2_test,\n",
    "        'MAPE_test': mape_test\n",
    "    }\n",
    "\n",
    "# Convert results to DataFrame\n",
    "results_df = pd.DataFrame(results).T\n",
    "print(results_df)"
   ]
  },
  {
   "cell_type": "code",
   "execution_count": 11,
   "id": "6536a6fb-3e9d-44fa-a430-8df6a9d20376",
   "metadata": {},
   "outputs": [
    {
     "data": {
      "text/plain": [
       "['xgboost_model.pkl']"
      ]
     },
     "execution_count": 11,
     "metadata": {},
     "output_type": "execute_result"
    }
   ],
   "source": [
    "import joblib\n",
    "\n",
    "# Save the model\n",
    "joblib.dump(xgb_model, 'xgboost_model.pkl')\n"
   ]
  },
  {
   "cell_type": "code",
   "execution_count": 12,
   "id": "205a0b17-1abd-491a-93da-ed56a509bc2c",
   "metadata": {},
   "outputs": [
    {
     "data": {
      "text/plain": [
       "['encoded_columns.pkl']"
      ]
     },
     "execution_count": 12,
     "metadata": {},
     "output_type": "execute_result"
    }
   ],
   "source": [
    "# Save column names for encoding\n",
    "encoded_columns = list(X_encoded.columns)\n",
    "joblib.dump(encoded_columns, 'encoded_columns.pkl')"
   ]
  },
  {
   "cell_type": "code",
   "execution_count": null,
   "id": "5810ec1d-9104-4c01-a1aa-cabf0b763334",
   "metadata": {},
   "outputs": [],
   "source": []
  },
  {
   "cell_type": "code",
   "execution_count": null,
   "id": "86b67a0c-9de8-4842-b41a-038a419af050",
   "metadata": {},
   "outputs": [],
   "source": []
  },
  {
   "cell_type": "code",
   "execution_count": null,
   "id": "3616c751-d0d4-4899-be6d-75b8d8df2938",
   "metadata": {},
   "outputs": [],
   "source": []
  }
 ],
 "metadata": {
  "kernelspec": {
   "display_name": "Python 3 (ipykernel)",
   "language": "python",
   "name": "python3"
  },
  "language_info": {
   "codemirror_mode": {
    "name": "ipython",
    "version": 3
   },
   "file_extension": ".py",
   "mimetype": "text/x-python",
   "name": "python",
   "nbconvert_exporter": "python",
   "pygments_lexer": "ipython3",
   "version": "3.11.7"
  }
 },
 "nbformat": 4,
 "nbformat_minor": 5
}
